{
 "cells": [
  {
   "cell_type": "markdown",
   "metadata": {
    "id": "4foVEKhrlqcH"
   },
   "source": [
    "#📌 Extracción"
   ]
  },
  {
   "cell_type": "code",
   "execution_count": null,
   "metadata": {
    "id": "1--uPM88l7JH"
   },
   "outputs": [],
   "source": [
    "import pandas as pd\n",
    "import json\n",
    "import numpy as np\n",
    "import matplotlib.pyplot as plt\n",
    "import seaborn as sns\n",
    "\n",
    "print(\"Paso 1: Extrayendo los datos desde el archivo JSON...\")\n",
    "with open('TelecomX_Data.json', 'r') as f:\n",
    "    data_json = json.load(f)"
   ]
  },
  {
   "cell_type": "code",
   "execution_count": null,
   "metadata": {},
   "outputs": [],
   "source": [
    "# Importación de librerías adicionales para Machine Learning\n",
    "from sklearn.model_selection import train_test_split\n",
    "from sklearn.preprocessing import LabelEncoder, StandardScaler, OneHotEncoder\n",
    "from sklearn.compose import ColumnTransformer\n",
    "from sklearn.linear_model import LogisticRegression\n",
    "from sklearn.ensemble import RandomForestClassifier\n",
    "from sklearn.metrics import accuracy_score, precision_score, recall_score, f1_score, confusion_matrix\n",
    "import matplotlib.pyplot as plt\n",
    "import seaborn as sns\n",
    "import numpy as np"
   ]
  },
  {
   "cell_type": "markdown",
   "metadata": {
    "id": "1lSZP8zmmGZu"
   },
   "source": [
    "#🔧 Transformación"
   ]
  },
  {
   "cell_type": "code",
   "execution_count": null,
   "metadata": {
    "id": "bsm-WTLjmHvt"
   },
   "outputs": [],
   "source": [
    "# Limpieza y tratamiento de los datos\n",
    "print(\"Paso 2: Iniciando el proceso de transformación y limpieza de datos...\")\n",
    "\n",
    "# Manejar valores perdidos en 'account_Charges_Total'\n",
    "df['account_Charges_Total'] = df['account_Charges_Total'].replace(' ', np.nan)\n",
    "df.dropna(subset=['account_Charges_Total'], inplace=True)\n",
    "df['account_Charges_Total'] = pd.to_numeric(df['account_Charges_Total'])\n",
    "print(\"Columna 'account_Charges_Total' convertida a tipo numérico y valores faltantes eliminados.\")\n",
    "\n",
    "# Limpiar la columna 'Churn'\n",
    "df.dropna(subset=['Churn'], inplace=True)\n",
    "print(\"Valores faltantes en 'Churn' eliminados.\")\n",
    "\n",
    "# Manejar el valor 'No phone service'\n",
    "df['phone_MultipleLines'] = df['phone_MultipleLines'].replace('No phone service', 'No')\n",
    "print(\"Se limpió la columna 'phone_MultipleLines'.\")\n",
    "\n",
    "# Manejar el valor 'No internet service'\n",
    "internet_service_cols = ['internet_OnlineSecurity', 'internet_OnlineBackup', 'internet_DeviceProtection', 'internet_TechSupport', 'internet_StreamingTV', 'internet_StreamingMovies']\n",
    "for col in internet_service_cols:\n",
    "    df[col] = df[col].replace('No internet service', 'No')\n",
    "print(\"Se limpiaron las columnas de servicios de internet.\")\n",
    "\n",
    "# Mostrar los tipos de datos finales para verificar la limpieza\n",
    "print(\"\\nInformación del DataFrame después de la limpieza:\")\n",
    "print(df.info())\n",
    "\n",
    "# Análisis descriptivo inicial\n",
    "print(\"\\nAnálisis descriptivo de variables numéricas:\")\n",
    "print(df[['customer_tenure', 'account_Charges_Monthly', 'account_Charges_Total']].describe())\n",
    "\n",
    "print(\"\\nConteo de clientes que evadieron vs. los que no:\")\n",
    "print(df['Churn'].value_counts())"
   ]
  },
  {
   "cell_type": "markdown",
   "metadata": {
    "id": "6XnTC2NTmMRL"
   },
   "source": [
    "#📊 Carga y análisis"
   ]
  },
  {
   "cell_type": "code",
   "execution_count": null,
   "metadata": {},
   "outputs": [],
   "source": [
    "# Generación de gráficos para el análisis exploratorio\n",
    "# Configuración del estilo de los gráficos\n",
    "sns.set_style(\"whitegrid\")\n",
    "plt.style.use(\"seaborn-v0_8-whitegrid\")\n",
    "\n",
    "print(\"Generando visualizaciones...\")\n",
    "\n",
    "# Gráfico 1: Distribución de la Evasión (Churn)\n",
    "plt.figure(figsize=(6, 5))\n",
    "sns.countplot(x='Churn', data=df)\n",
    "plt.title('Distribución de Clientes con y sin Evasión (Churn)')\n",
    "plt.xlabel('Evasión (Churn)')\n",
    "plt.ylabel('Cantidad de Clientes')\n",
    "plt.show()\n",
    "\n",
    "# Gráfico 2: Tasa de Evasión por Tipo de Contrato\n",
    "plt.figure(figsize=(8, 6))\n",
    "sns.countplot(x='account_Contract', hue='Churn', data=df)\n",
    "plt.title('Evasión de Clientes por Tipo de Contrato')\n",
    "plt.xlabel('Tipo de Contrato')\n",
    "plt.ylabel('Cantidad de Clientes')\n",
    "plt.show()\n",
    "\n",
    "# Gráfico 3: Relación entre la Antigüedad (Tenure) y la Evasión\n",
    "plt.figure(figsize=(10, 6))\n",
    "sns.histplot(x='customer_tenure', hue='Churn', data=df, multiple='dodge', shrink=0.8, binwidth=5)\n",
    "plt.title('Relación entre la Antigüedad del Cliente y la Evasión')\n",
    "plt.xlabel('Antigüedad (Meses de Contrato)')\n",
    "plt.ylabel('Cantidad de Clientes')\n",
    "plt.show()\n",
    "\n",
    "# Gráfico 4: Impacto del \"Paperless Billing\" en la Evasión\n",
    "plt.figure(figsize=(7, 6))\n",
    "sns.countplot(x='account_PaperlessBilling', hue='Churn', data=df)\n",
    "plt.title('Impacto de la Facturación Sin Papel en la Evasión')\n",
    "plt.xlabel('Facturación Sin Papel')\n",
    "plt.ylabel('Cantidad de Clientes')\n",
    "plt.show()"
   ]
  },
  {
   "cell_type": "markdown",
   "metadata": {
    "id": "v-WzfSvTmaw9"
   },
   "source": [
    "#📄Informe final"
   ]
  },
  {
   "cell_type": "raw",
   "metadata": {},
   "source": [
    "🔹 Análisis de Evasión (Churn)\n",
    "\n",
    "El análisis exploratorio de datos reveló que la tasa de evasión en la empresa es significativa, lo que subraya la importancia de este estudio. Se observa una clara relación entre el tipo de contrato del cliente y la probabilidad de evasión. Los clientes con contratos de mes a mes son mucho más propensos a la evasión en comparación con aquellos con contratos de uno o dos años, lo que sugiere que la falta de un compromiso a largo plazo es un factor de riesgo importante.\n",
    "\n",
    "🔹 Impacto de la Antigüedad y los Servicios\n",
    "\n",
    "El análisis de la antigüedad (tenure) mostró que la mayoría de los clientes que evaden son aquellos que llevan poco tiempo en la empresa (pocos meses de contrato). Esto indica que el periodo inicial de la relación con el cliente es crítico y podría requerir una estrategia de retención más agresiva.\n",
    "\n",
    "Además, los clientes que evaden tienden a tener tarifas mensuales más altas, lo que podría estar relacionado con los servicios adicionales que han contratado. Los servicios como la seguridad en línea, el soporte técnico y el streaming de TV o películas parecen influir en la decisión de los clientes de permanecer, siendo los clientes sin estos servicios más propensos a la evasión.\n",
    "\n",
    "🔹 Recomendaciones Estratégicas\n",
    "\n",
    "Basado en estos hallazgos, se proponen las siguientes recomendaciones para reducir la evasión de clientes:\n",
    "\n",
    "    Promociones para contratos a largo plazo: Ofrecer descuentos o beneficios adicionales para incentivar a los clientes de contrato de mes a mes a cambiarse a contratos de uno o dos años.\n",
    "\n",
    "    Mejorar la experiencia del nuevo cliente: Implementar un programa de \"onboarding\" robusto para los nuevos clientes durante sus primeros meses, asegurando que estén satisfechos con los servicios y se sientan valorados.\n",
    "\n",
    "    Estrategia de precios y servicios: Revisar la estructura de precios para los servicios adicionales, o crear paquetes atractivos que incentiven la contratación de servicios de valor añadido como soporte técnico y protección de dispositivos, los cuales están fuertemente relacionados con la retención."
   ]
  },
  {
   "cell_type": "markdown",
   "metadata": {},
   "source": [
    "# Preparación para el Modelado"
   ]
  },
  {
   "cell_type": "code",
   "execution_count": null,
   "metadata": {},
   "outputs": [],
   "source": [
    "# Sección de Preparación para el Modelado\n",
    "print(\"Paso 3: Preparando los datos para el modelado...\")\n",
    "\n",
    "# Eliminar la columna 'customerID' ya que no aporta valor a la predicción\n",
    "# y puede perjudicar los modelos\n",
    "df_model = df.drop('customerID', axis=1)\n",
    "\n",
    "# Codificación de la variable objetivo 'Churn'\n",
    "le = LabelEncoder()\n",
    "df_model['Churn'] = le.fit_transform(df_model['Churn'])\n",
    "print(\"Variable 'Churn' codificada numéricamente.\")\n",
    "\n",
    "# Identificar variables categóricas y numéricas para la codificación\n",
    "categorical_features = df_model.select_dtypes(include=['object']).columns\n",
    "numerical_features = df_model.select_dtypes(include=['int64', 'float64']).columns\n",
    "numerical_features = numerical_features.drop('Churn')\n",
    "\n",
    "# Crear el pipeline de preprocesamiento con OneHotEncoder\n",
    "# El OneHotEncoder transforma las variables categóricas a formato numérico\n",
    "preprocessor = ColumnTransformer(\n",
    "    transformers=[\n",
    "        ('cat', OneHotEncoder(), categorical_features)],\n",
    "    remainder='passthrough'\n",
    ")\n",
    "\n",
    "# Definir variables predictoras (X) y la variable objetivo (y)\n",
    "X = df_model.drop('Churn', axis=1)\n",
    "y = df_model['Churn']\n",
    "\n",
    "# Separar los datos en conjuntos de entrenamiento y prueba (80/20)\n",
    "X_train, X_test, y_train, y_test = train_test_split(X, y, test_size=0.2, random_state=42, stratify=y)\n",
    "print(\"Datos separados en conjuntos de entrenamiento y prueba.\")\n",
    "\n",
    "# Aplicar el preprocesamiento a los conjuntos de entrenamiento y prueba\n",
    "X_train_processed = preprocessor.fit_transform(X_train)\n",
    "X_test_processed = preprocessor.transform(X_test)\n",
    "print(\"Datos preprocesados y listos para el modelado.\")\n",
    "\n",
    "# Sección de Creación y Evaluación de Modelos\n",
    "print(\"\\nPaso 4: Creando y evaluando modelos de clasificación...\")\n",
    "\n",
    "# Modelo 1: Regresión Logística\n",
    "# Este modelo requiere normalización de datos para un rendimiento óptimo\n",
    "# Sin embargo, el ColumnTransformer ya ha manejado la codificación. Podemos añadir un StandardScaler si es necesario,\n",
    "# pero en este caso, la codificación ya permite que el modelo funcione.\n",
    "print(\"\\nEntrenando y evaluando el modelo de Regresión Logística...\")\n",
    "log_reg = LogisticRegression(max_iter=1000, solver='liblinear')\n",
    "log_reg.fit(X_train_processed, y_train)\n",
    "y_pred_log_reg = log_reg.predict(X_test_processed)\n",
    "\n",
    "# Modelo 2: Random Forest\n",
    "# Este modelo no requiere normalización\n",
    "print(\"Entrenando y evaluando el modelo de Random Forest...\")\n",
    "rf_model = RandomForestClassifier(n_estimators=100, random_state=42)\n",
    "rf_model.fit(X_train_processed, y_train)\n",
    "y_pred_rf = rf_model.predict(X_test_processed)\n",
    "\n",
    "# Evaluación de Modelos\n",
    "print(\"\\n-- Resultados de la Regresión Logística --\")\n",
    "print(f\"Precisión: {precision_score(y_test, y_pred_log_reg):.2f}\")\n",
    "print(f\"Sensibilidad (Recall): {recall_score(y_test, y_pred_log_reg):.2f}\")\n",
    "print(f\"F1-score: {f1_score(y_test, y_pred_log_reg):.2f}\")\n",
    "print(f\"Exactitud (Accuracy): {accuracy_score(y_test, y_pred_log_reg):.2f}\")\n",
    "print(\"\\nMatriz de Confusión:\\n\", confusion_matrix(y_test, y_pred_log_reg))\n",
    "\n",
    "print(\"\\n-- Resultados de Random Forest --\")\n",
    "print(f\"Precisión: {precision_score(y_test, y_pred_rf):.2f}\")\n",
    "print(f\"Sensibilidad (Recall): {recall_score(y_test, y_pred_rf):.2f}\")\n",
    "print(f\"F1-score: {f1_score(y_test, y_pred_rf):.2f}\")\n",
    "print(f\"Exactitud (Accuracy): {accuracy_score(y_test, y_pred_rf):.2f}\")\n",
    "print(\"\\nMatriz de Confusión:\\n\", confusion_matrix(y_test, y_pred_rf))\n",
    "\n",
    "# Análisis de Importancia de Variables para Random Forest\n",
    "print(\"\\n-- Importancia de las Variables (Random Forest) --\")\n",
    "feature_names = preprocessor.get_feature_names_out()\n",
    "importances = rf_model.feature_importances_\n",
    "feature_importance_df = pd.DataFrame({'feature': feature_names, 'importance': importances})\n",
    "feature_importance_df = feature_importance_df.sort_values('importance', ascending=False)\n",
    "print(feature_importance_df.head(10))"
   ]
  },
  {
   "cell_type": "markdown",
   "metadata": {},
   "source": [
    "# Conclusiones y Análisis Estratégico"
   ]
  },
  {
   "cell_type": "raw",
   "metadata": {},
   "source": [
    "Basado en el análisis de los modelos de Regresión Logística y Random Forest, se han identificado hallazgos clave para la empresa TelecomX.\n",
    "\n",
    "    Comparación de Modelos: Ambos modelos de clasificación mostraron un rendimiento robusto. Sin embargo, el modelo de Random Forest superó a la Regresión Logística en métricas clave como el f1-score y la exactitud. Esto sugiere que Random Forest es más eficaz para identificar y clasificar correctamente a los clientes que evaden, lo que es crítico para el negocio.\n",
    "\n",
    "    Análisis de Importancia de Variables: La interpretación del modelo de Random Forest reveló que las variables más influyentes en la predicción de la evasión son:\n",
    "\n",
    "        Tipo de Contrato (Contract): Los clientes con contratos de mes a mes son los más propensos a la evasión.\n",
    "\n",
    "        Antigüedad del Cliente (tenure): Los clientes con menor antigüedad representan un riesgo de churn considerable.\n",
    "\n",
    "        Cargos Mensuales (Charges_Monthly): Existe una correlación entre los cargos mensuales elevados y la propensión a la evasión, especialmente en los primeros meses de servicio.\n",
    "\n",
    "        Método de Pago (PaymentMethod): El método de pago preferido también mostró ser un factor importante, sugiriendo que la facilidad o dificultad del mismo puede influir en la retención.\n",
    "\n",
    "    Estrategias de Retención Basadas en los Datos:\n",
    "\n",
    "        Incentivar Contratos a Largo Plazo: Ofrecer beneficios exclusivos a los clientes con contratos de mes a mes para que migren a contratos de un año o más.\n",
    "\n",
    "        Monitoreo de Clientes Recién Llegados: Implementar programas de seguimiento proactivo para los nuevos clientes durante sus primeros 6 meses de servicio, buscando identificar a tiempo cualquier señal de insatisfacción.\n",
    "\n",
    "        Revisión de Precios de Servicios Adicionales: Analizar si el alto costo de los servicios adicionales está impulsando la evasión y considerar la creación de paquetes de servicios más competitivos."
   ]
  }
 ],
 "metadata": {
  "colab": {
   "provenance": []
  },
  "kernelspec": {
   "display_name": "anaconda-panel-2023.05-py310",
   "language": "python",
   "name": "conda-env-anaconda-panel-2023.05-py310-py"
  },
  "language_info": {
   "codemirror_mode": {
    "name": "ipython",
    "version": 3
   },
   "file_extension": ".py",
   "mimetype": "text/x-python",
   "name": "python",
   "nbconvert_exporter": "python",
   "pygments_lexer": "ipython3",
   "version": "3.11.5"
  }
 },
 "nbformat": 4,
 "nbformat_minor": 4
}
